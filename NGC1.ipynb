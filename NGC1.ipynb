{
 "cells": [
  {
   "cell_type": "code",
   "execution_count": 8,
   "metadata": {},
   "outputs": [
    {
     "name": "stdout",
     "output_type": "stream",
     "text": [
      "12\n"
     ]
    }
   ],
   "source": [
    "#Task 1\n",
    "\n",
    "customer_id = ['B818', 'A461', 'A092', 'A082', 'B341', 'A005', 'A092', \n",
    "               'A461','B219', 'B904', 'A901', 'A083', 'B904', 'A092', \n",
    "               'B341', 'B821','B341', 'B821', 'B904', 'B818', 'A901', \n",
    "               'A083', 'B818', 'A082','B219', 'B219', 'A083', 'A901', \n",
    "               'A082', 'B341', 'B341', 'A083','A082', 'B219', 'B439', \n",
    "               'A461', 'A005', 'A901', 'B341', 'A082','A083', 'A461', \n",
    "               'A083', 'A901', 'A461', 'A083', 'A082', 'A083','B341', \n",
    "               'A901', 'A082', 'A461', 'B219', 'A083', 'B818', 'B821',\n",
    "               'A092', 'B341', 'A461', 'A092', 'A083', 'B821', 'A092']\n",
    "\n",
    "uniCuID=len(set(customer_id))\n",
    "\"\"\"len untuk mengetahui panjang yang ada di list. dan set memiliki karakteristik\n",
    "tidak boleh duplicate\"\"\"\n",
    "print(uniCuID)"
   ]
  },
  {
   "cell_type": "code",
   "execution_count": 29,
   "metadata": {},
   "outputs": [
    {
     "name": "stdout",
     "output_type": "stream",
     "text": [
      "[1, 4, 9, 16, 25, 36, 49, 64, 81, 100]\n",
      "a. 16\n",
      "b. [36, 49, 64, 81]\n",
      "c. [100, 81, 64, 49, 36, 25, 16, 9, 4, 1]\n"
     ]
    }
   ],
   "source": [
    "#Task 2\n",
    "Data = [1, 4, 9, 16, 25, 36, 49,  64, 81, 100]\n",
    "print(Data)\n",
    "#a.\n",
    "print('a.', Data[3])\n",
    "\"\"\"ambil index ke 3\"\"\"\n",
    "#b. \n",
    "print('b.', Data[-5:-1])\n",
    "\"\"\"dimulai dari index ke -5 (dibaca dari belakang)\n",
    "sampai index ke -1\"\"\"\n",
    "#c.\n",
    "print('c.', Data[::-1])\n",
    "\"\"\"dimulai dari index ke 0 sampai terakhir, dengan step negatif\n",
    "artinya susunannya akan berjalan dari belakang\"\"\""
   ]
  },
  {
   "cell_type": "code",
   "execution_count": 42,
   "metadata": {},
   "outputs": [
    {
     "name": "stdout",
     "output_type": "stream",
     "text": [
      "a. dict_keys(['Nanggroe Aceh Darussalam', 'Sumatera Selatan', 'Kalimantan Barat', 'Jawa Timur', 'Sulawesi Selatan', 'Maluku'])\n",
      "b. {'Nanggroe Aceh Darussalam': 'Aceh', 'Sumatera Selatan': 'Palembang', 'Kalimantan Barat': 'Pontianak', 'Jawa Timur': 'Surabaya', 'Sulawesi Selatan': 'Makassar', 'Maluku': 'Ambon'}\n"
     ]
    }
   ],
   "source": [
    "provinsi = {'Nanggroe Aceh Darussalam': 'Aceh',\n",
    "            'Sumatera Selatan': 'Palembang',\n",
    "            'Kalimantan Barat': 'Pontianak',\n",
    "            'Jawa Timur': 'Madiun',\n",
    "            'Sulawesi Selatan': 'Makassar',\n",
    "            'Maluku': 'Ambon'}\n",
    "#a.\n",
    "print('a.',provinsi.keys())\n",
    "\n",
    "#b.\n",
    "\"\"\"buat variable baru supaya tidak mereplace data sebelumnya\n",
    "sehingga bisa ditampilkan keduanya\"\"\"\n",
    "newDictVal = provinsi\n",
    "newDictVal['Jawa Timur'] = 'Surabaya'\n",
    "print('b.',newDictVal)"
   ]
  }
 ],
 "metadata": {
  "kernelspec": {
   "display_name": "base",
   "language": "python",
   "name": "python3"
  },
  "language_info": {
   "codemirror_mode": {
    "name": "ipython",
    "version": 3
   },
   "file_extension": ".py",
   "mimetype": "text/x-python",
   "name": "python",
   "nbconvert_exporter": "python",
   "pygments_lexer": "ipython3",
   "version": "3.9.19"
  }
 },
 "nbformat": 4,
 "nbformat_minor": 2
}
